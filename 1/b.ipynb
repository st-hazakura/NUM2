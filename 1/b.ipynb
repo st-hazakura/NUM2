{
 "cells": [
  {
   "cell_type": "markdown",
   "metadata": {},
   "source": [
    "## B. Jacobiho metoda pro výpočet vlastních čísel a vlastních vektorů symetrické matice\n",
    "\n",
    "### Napište program pro výpočet vlastních čísel a vlastních vektorů symetrické matice Jacobiho metodou. Programem vypočtěte vlastní čísla a vlastní vektory symetrické matice:\n",
    "\n",
    "$ [3, -1, 1][-1, 5, -1] [1, -1, 3] $"
   ]
  },
  {
   "cell_type": "code",
   "execution_count": 71,
   "metadata": {},
   "outputs": [],
   "source": [
    "import numpy as np"
   ]
  },
  {
   "cell_type": "markdown",
   "metadata": {},
   "source": [
    "Vyhledání Prvku k Rotaci(prvek mimo diagonálu s maximální absolutní hodnotou, který budeme rotovat):"
   ]
  },
  {
   "cell_type": "code",
   "execution_count": 72,
   "metadata": {},
   "outputs": [],
   "source": [
    "def nejv_nd_prvek(matice):\n",
    "    pocet_radku = len(matice)\n",
    "    max_ned_prvek, sum_nediag_prvku, radek, sloupec = 0, 0.0, 0, 0\n",
    "\n",
    "    for i in range(pocet_radku - 1):\n",
    "        for j in range(i+1, pocet_radku):\n",
    "            sum_nediag_prvku = sum_nediag_prvku + matice[i,j]**2 #abs(matice[i,j])  # matice[i,j]**2 ???\n",
    "            if abs(matice[i,j]) > max_ned_prvek:\n",
    "                max_ned_prvek = abs(matice[i,j])\n",
    "                radek = i\n",
    "                sloupec = j\n",
    "    return radek, sloupec, sum_nediag_prvku"
   ]
  },
  {
   "cell_type": "markdown",
   "metadata": {},
   "source": [
    "Výpočet Úhlu Rotace(aby se vybraný prvek po rotaci převedl na nulu):"
   ]
  },
  {
   "cell_type": "code",
   "execution_count": 73,
   "metadata": {},
   "outputs": [],
   "source": [
    "def vypoc_uhlu(matice, radek, sloupec):\n",
    "    w = - matice[radek, sloupec]\n",
    "    m = ( matice[radek,radek] - matice[sloupec, sloupec] ) / 2.0\n",
    "    v = np.sqrt(w**2.0 + m**2.0)\n",
    "\n",
    "    c = np.sqrt(( v + abs(m) ) / (2.0 * v))\n",
    "    s = (np.sign(m) * w) / (2.0 * v * c)\n",
    "    \n",
    "    return c, s"
   ]
  },
  {
   "cell_type": "markdown",
   "metadata": {},
   "source": [
    "Aplikace Rotace: Aplikujeme rotaci na matici I na akumulovanou matici rotací (pro výpočet vlastních vektorů):"
   ]
  },
  {
   "cell_type": "code",
   "execution_count": 74,
   "metadata": {},
   "outputs": [],
   "source": [
    "def rotace(matice, radek, sloupec, s, c):\n",
    "    a_ss= matice[sloupec, sloupec]\n",
    "    a_rr = matice[radek,radek]\n",
    "    a_rs = matice[radek, sloupec]\n",
    "    \n",
    "    for i in range (len(matice)):\n",
    "        if i!= radek and i!= sloupec:\n",
    "            matice[i,radek] = matice[radek, i] = c * matice[i, radek] - s * matice[i, sloupec]\n",
    "            matice[i,sloupec] = matice[sloupec, i] = c * matice[i, sloupec] + s * matice[i, radek]\n",
    "    \n",
    "    matice[radek, radek] = c**2 * a_rr + s**2 * a_ss - 2.0 * c * s * a_rs\n",
    "    matice[sloupec, sloupec] = c**2 * a_ss + s**2 * a_rr + 2.0 *c * s * a_rs\n",
    "    matice[radek, sloupec] = 0.0\n",
    "    matice[sloupec,radek] = 0.0\n",
    "    return matice"
   ]
  },
  {
   "cell_type": "code",
   "execution_count": 75,
   "metadata": {},
   "outputs": [],
   "source": [
    "def vytv_aktualiz_t(pocet_prvku, radek, sloupec, s, c):\n",
    "    t = np.eye(pocet_prvku, dtype=np.float64 )\n",
    "    t[radek,radek] = t[sloupec,sloupec] = c\n",
    "    t[radek,sloupec]  = s\n",
    "    t[sloupec, radek] = -s    \n",
    "    return t"
   ]
  },
  {
   "cell_type": "code",
   "execution_count": 76,
   "metadata": {},
   "outputs": [],
   "source": [
    "def aktualiz_q(q,t):\n",
    "    if q is None:\n",
    "        return t\n",
    "    else:\n",
    "        return np.dot(q,t)"
   ]
  },
  {
   "cell_type": "markdown",
   "metadata": {},
   "source": [
    "celk"
   ]
  },
  {
   "cell_type": "code",
   "execution_count": 77,
   "metadata": {},
   "outputs": [],
   "source": [
    "def Jakobian(matice, presnost, max_iter):\n",
    "    \n",
    "    q = None\n",
    "    pocet_prvku = len(matice)\n",
    "    \n",
    "    for i in range(max_iter):\n",
    "        \n",
    "        radek, sloupec, sum_nediag_prvku = nejv_nd_prvek(matice)\n",
    "        if sum_nediag_prvku*2.0 <= presnost:\n",
    "            vlastni_cisla = np.diag(matice)\n",
    "            vlastni_vektory = q\n",
    "            return vlastni_cisla, vlastni_vektory, i\n",
    "        \n",
    "        c,s = vypoc_uhlu(matice, radek, sloupec)\n",
    "        matice = rotace(matice, radek, sloupec, s, c)\n",
    "        t = vytv_aktualiz_t(pocet_prvku, radek, sloupec, s, c)\n",
    "        q = aktualiz_q(q, t)\n",
    "        \n",
    "    vlastni_cisla = np.diag(matice)\n",
    "    vlastni_vektory = q\n",
    "        \n",
    "    return vlastni_cisla, vlastni_vektory, i"
   ]
  },
  {
   "cell_type": "code",
   "execution_count": 83,
   "metadata": {},
   "outputs": [
    {
     "name": "stdout",
     "output_type": "stream",
     "text": [
      "VC[2.9927201 5.871053  2.1362262]\n",
      "[[ 0.54535635 -0.40334227 -0.73477988]\n",
      " [ 0.55321532  0.83176819 -0.04598355]\n",
      " [ 0.62971364 -0.38141406  0.67674519]]\n",
      "6\n"
     ]
    }
   ],
   "source": [
    "import math\n",
    "\n",
    "matice = np.array([\n",
    "    [ 3, -1,  1], \n",
    "    [-1,  5, -1], \n",
    "    [ 1, -1,  3]], dtype= 'f' )\n",
    "\n",
    "presnost = 1e-6\n",
    "max_iter = 1000\n",
    "\n",
    "vlastni_cisla, vlastni_vektory, pocet_iteraci = Jakobian(matice, presnost, max_iter)\n",
    "# VC = [round(i) for i in vlastni_cisla ]\n",
    "print( f\"VC{ vlastni_cisla}\" )\n",
    "print(vlastni_vektory)\n",
    "print(pocet_iteraci)"
   ]
  },
  {
   "cell_type": "code",
   "execution_count": 80,
   "metadata": {},
   "outputs": [
    {
     "name": "stdout",
     "output_type": "stream",
     "text": [
      "[[ 2.58578644  0.          0.5411961 ]\n",
      " [ 0.          5.41421356 -1.13098631]\n",
      " [ 0.5411961  -1.13098631  3.        ]]\n",
      "0\n",
      "[[ 2.58578644 -0.19894343  0.4301723 ]\n",
      " [-0.19894343  5.86126422  0.        ]\n",
      " [ 0.4301723   0.          2.55294935]]\n",
      "1\n",
      "[[ 2.99985341 -0.14333178  0.        ]\n",
      " [-0.14333178  5.86126422  0.09939934]\n",
      " [ 0.          0.09939934  2.13888238]]\n",
      "2\n",
      "[[2.99269166e+00 0.00000000e+00 4.96042288e-03]\n",
      " [0.00000000e+00 5.86842597e+00 9.90279484e-02]\n",
      " [4.96042288e-03 9.90279484e-02 2.13888238e+00]]\n",
      "3\n",
      "[[2.99269166e+00 1.31571585e-04 4.95518782e-03]\n",
      " [1.31571585e-04 5.87105354e+00 0.00000000e+00]\n",
      " [4.95518782e-03 0.00000000e+00 2.13625481e+00]]\n",
      "4\n",
      "[[ 2.99272032e+00  1.31569383e-04  0.00000000e+00]\n",
      " [ 1.31569383e-04  5.87105354e+00 -7.61198299e-07]\n",
      " [ 0.00000000e+00 -7.61198299e-07  2.13622614e+00]]\n",
      "5\n",
      "[[ 2.99272032e+00  0.00000000e+00  3.47945783e-11]\n",
      " [ 0.00000000e+00  5.87105354e+00 -7.61198296e-07]\n",
      " [ 3.47945783e-11 -7.61198296e-07  2.13622614e+00]]\n",
      "6\n"
     ]
    }
   ],
   "source": [
    "q = None\n",
    "pocet_prvku = len(matice)\n",
    "\n",
    "matice = np.array([\n",
    "    [ 3.0, -1.0,  1.0], \n",
    "    [-1.0,  5.0, -1.0], \n",
    "    [ 1.0, -1.0,  3.0]])\n",
    "\n",
    "for i in range(7):\n",
    "    radek, sloupec, sum_nediag_prvku = nejv_nd_prvek(matice)\n",
    "    c, s = vypoc_uhlu(matice, radek, sloupec)\n",
    "    matice = rotace(matice, radek, sloupec, s ,c)\n",
    "    print(matice)\n",
    "    t = vytv_aktualiz_t(pocet_prvku, radek, sloupec, s, c)\n",
    "    q = aktualiz_q(q, t)\n",
    "    print(i)\n"
   ]
  }
 ],
 "metadata": {
  "kernelspec": {
   "display_name": "Python 3",
   "language": "python",
   "name": "python3"
  },
  "language_info": {
   "codemirror_mode": {
    "name": "ipython",
    "version": 3
   },
   "file_extension": ".py",
   "mimetype": "text/x-python",
   "name": "python",
   "nbconvert_exporter": "python",
   "pygments_lexer": "ipython3",
   "version": "3.11.8"
  }
 },
 "nbformat": 4,
 "nbformat_minor": 2
}
